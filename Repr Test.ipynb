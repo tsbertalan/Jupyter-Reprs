{
 "cells": [
  {
   "cell_type": "code",
   "execution_count": 1,
   "metadata": {},
   "outputs": [],
   "source": [
    "class HasRepr:\n",
    "    \n",
    "    def _repr_html_(self):\n",
    "        \n",
    "        return '<b>Hello world!</b>'\n",
    "    "
   ]
  },
  {
   "cell_type": "code",
   "execution_count": 2,
   "metadata": {},
   "outputs": [
    {
     "data": {
      "text/html": [
       "<b>Hello world!</b>"
      ],
      "text/plain": [
       "<__main__.HasRepr at 0x7fe9a431cb00>"
      ]
     },
     "execution_count": 2,
     "metadata": {},
     "output_type": "execute_result"
    }
   ],
   "source": [
    "HasRepr()"
   ]
  },
  {
   "cell_type": "code",
   "execution_count": 7,
   "metadata": {},
   "outputs": [],
   "source": [
    "from IPython.core.display import HTML, Latex, TextDisplayObject\n",
    "from PIL import Image\n",
    "\n",
    "class GIFforLatex(TextDisplayObject):\n",
    "\n",
    "    def __init__(self, gifpath):\n",
    "        self.path = gifpath\n",
    "\n",
    "    def _repr_html_(self):\n",
    "        self.data = '<img src=\"%s\" />' % self.path\n",
    "        return self.data\n",
    "\n",
    "    def __html__(self):\n",
    "        \"\"\"\n",
    "        This method exists to inform other HTML-using modules (e.g. Markupsafe,\n",
    "        htmltag, etc) that this object is HTML and does not need things like\n",
    "        special characters (<>&) escaped.\n",
    "        \"\"\"\n",
    "        return self._repr_html_()\n",
    "\n",
    "    def _repr_latex_(self):\n",
    "        im = Image.open(self.path)\n",
    "        modpath = self.path.replace('.', '-').replace('_', '-') + '.png'\n",
    "        im.save(modpath)\n",
    "        self.data = r\"\\includegraphics{%s}\" % modpath\n",
    "        return self.data"
   ]
  },
  {
   "cell_type": "code",
   "execution_count": 8,
   "metadata": {},
   "outputs": [
    {
     "name": "stdout",
     "output_type": "stream",
     "text": [
      "Advanced Lane Finding.ipynb  \u001b[0m\u001b[01;35mComplexPipeline-DilateSobel.gif\u001b[0m  Repr Test.ipynb\r\n"
     ]
    }
   ],
   "source": [
    "ls"
   ]
  },
  {
   "cell_type": "code",
   "execution_count": 9,
   "metadata": {},
   "outputs": [
    {
     "data": {
      "text/html": [
       "<img src=\"ComplexPipeline-DilateSobel.gif\" />"
      ],
      "text/latex": [
       "\\includegraphics{ComplexPipeline-DilateSobel-gif.png}"
      ],
      "text/plain": [
       "<__main__.GIFforLatex object>"
      ]
     },
     "execution_count": 9,
     "metadata": {},
     "output_type": "execute_result"
    }
   ],
   "source": [
    "GIFforLatex('ComplexPipeline-DilateSobel.gif')"
   ]
  }
 ],
 "metadata": {
  "kernelspec": {
   "display_name": "Python 3 (no explicit path to executable given)",
   "language": "python",
   "name": "python3"
  },
  "language_info": {
   "codemirror_mode": {
    "name": "ipython",
    "version": 3
   },
   "file_extension": ".py",
   "mimetype": "text/x-python",
   "name": "python",
   "nbconvert_exporter": "python",
   "pygments_lexer": "ipython3",
   "version": "3.5.2"
  }
 },
 "nbformat": 4,
 "nbformat_minor": 2
}
